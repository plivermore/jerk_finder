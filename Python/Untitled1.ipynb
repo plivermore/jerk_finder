{
 "cells": [
  {
   "cell_type": "code",
   "execution_count": 3,
   "id": "8439d881-4f1c-4b6a-a73d-c06cbb311a7f",
   "metadata": {},
   "outputs": [
    {
     "name": "stdout",
     "output_type": "stream",
     "text": [
      "Shape of gmn array:  (195, 10001)\n",
      "Times (in years) of output [2000.  2000.2 2000.4 ... 3999.6 3999.8 4000. ]\n"
     ]
    }
   ],
   "source": [
    "#%matplotlib widget\n",
    "from multiprocessing import Pool\n",
    "import sys\n",
    "import os\n",
    "import datetime as dt\n",
    "import pandas as pd\n",
    "import numpy as np\n",
    "import matplotlib.pyplot as plt\n",
    "import warnings\n",
    "sys.path.append( os.path.abspath('..') )\n",
    "from jerks import jerks\n",
    "import chaosmagpy as cp\n",
    "\n",
    "# %%\n",
    "# Download the spherical harmonic time-series output from the path model\n",
    "import os.path\n",
    "\n",
    "# %%\n",
    "# import the dataset\n",
    "import h5py\n",
    "filepath = 'Gauss_jerk3.mat'\n",
    "arrays = {}\n",
    "f = h5py.File(filepath,'r')\n",
    "for k, v in f.items():\n",
    "    arrays[k] = np.array(v)\n",
    "\n",
    "# %%\n",
    "coeffs = arrays['gnm'][:,:].T\n",
    "time = arrays['timers'].flatten()\n",
    "print( 'Shape of gmn array: ', arrays['gnm'].shape )\n",
    "print ('Times (in years) of output', time )\n",
    "\n",
    "# %%\n",
    "# jerk times as defined in catalogue\n",
    "jerk_times = [4600,5750,2920, 1915, 6490,7300,7620,7840,8880,9673,10590,12620,13411,13546]\n"
   ]
  },
  {
   "cell_type": "code",
   "execution_count": null,
   "id": "d502b205-8316-4563-bc27-f5ba1d16c8c0",
   "metadata": {},
   "outputs": [],
   "source": []
  },
  {
   "cell_type": "code",
   "execution_count": null,
   "id": "36345da9-0cb3-4b95-8a23-c8cf01e644da",
   "metadata": {},
   "outputs": [],
   "source": [
    "\n"
   ]
  },
  {
   "cell_type": "code",
   "execution_count": null,
   "id": "ccce9e01-51b5-4433-a8fe-3d1418814e81",
   "metadata": {},
   "outputs": [],
   "source": []
  }
 ],
 "metadata": {
  "kernelspec": {
   "display_name": "Python 3 (ipykernel)",
   "language": "python",
   "name": "python3"
  },
  "language_info": {
   "codemirror_mode": {
    "name": "ipython",
    "version": 3
   },
   "file_extension": ".py",
   "mimetype": "text/x-python",
   "name": "python",
   "nbconvert_exporter": "python",
   "pygments_lexer": "ipython3",
   "version": "3.9.7"
  }
 },
 "nbformat": 4,
 "nbformat_minor": 5
}
