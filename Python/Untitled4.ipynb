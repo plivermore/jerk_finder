{
 "cells": [
  {
   "cell_type": "code",
   "execution_count": 2,
   "id": "5a8f40a4-dbbf-40db-99e9-35da269bd1d7",
   "metadata": {},
   "outputs": [],
   "source": [
    "results = [[1,3,43],\"ewrtre\"]\n",
    "\n",
    "LMIN = 3\n",
    "LMAX = 10\n",
    "\n",
    "import pickle\n",
    "with open(\"temp.dat\", \"wb\") as fp:   #Pickling\n",
    "    pickle.dump([LMIN, LMAX], fp)\n",
    "    pickle.dump(results, fp)\n"
   ]
  },
  {
   "cell_type": "code",
   "execution_count": 7,
   "id": "151ea56b-f42d-42f3-978a-a8231bfaf72c",
   "metadata": {},
   "outputs": [],
   "source": [
    "with open(\"temp.dat\", \"rb\") as fp:   # Unpickling\n",
    "     LMIN, LMAX = pickle.load(fp)\n",
    "     results = pickle.load(fp)"
   ]
  },
  {
   "cell_type": "code",
   "execution_count": 10,
   "id": "9baf4d58-a9db-4702-bd29-0ed8e9257b73",
   "metadata": {},
   "outputs": [
    {
     "data": {
      "text/plain": [
       "(3, 10, [[1, 3, 43], 'ewrtre'])"
      ]
     },
     "execution_count": 10,
     "metadata": {},
     "output_type": "execute_result"
    }
   ],
   "source": [
    "LMIN, LMAX, results"
   ]
  },
  {
   "cell_type": "code",
   "execution_count": null,
   "id": "587397b5-5466-45aa-955e-0cc388932a38",
   "metadata": {},
   "outputs": [],
   "source": []
  }
 ],
 "metadata": {
  "kernelspec": {
   "display_name": "Python 3 (ipykernel)",
   "language": "python",
   "name": "python3"
  },
  "language_info": {
   "codemirror_mode": {
    "name": "ipython",
    "version": 3
   },
   "file_extension": ".py",
   "mimetype": "text/x-python",
   "name": "python",
   "nbconvert_exporter": "python",
   "pygments_lexer": "ipython3",
   "version": "3.10.5"
  }
 },
 "nbformat": 4,
 "nbformat_minor": 5
}
