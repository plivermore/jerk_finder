{
 "cells": [
  {
   "cell_type": "code",
   "execution_count": 3,
   "id": "330ff504-9061-47c0-9d90-18e2a30f410e",
   "metadata": {},
   "outputs": [
    {
     "data": {
      "text/plain": [
       "'Jerk9_5x5_5M_size1000_error10_5yr.results'"
      ]
     },
     "execution_count": 3,
     "metadata": {},
     "output_type": "execute_result"
    }
   ],
   "source": [
    "jerk_number = 8\n",
    "SV_error=10\n",
    "burn_in = 10000\n",
    "Nsample = burn_in + 5000000\n",
    "discretise_size = 1000\n",
    "\n",
    "\"Jerk{0:1d}_5x5_{1:1d}M_size{2:d}_error{3:d}_5yr.results\".format(jerk_number+1,int((Nsample-burn_in)/1e6),discretise_size,SV_error)"
   ]
  },
  {
   "cell_type": "code",
   "execution_count": null,
   "id": "cf6eb546-3b3c-4418-a536-bd55bfdf4208",
   "metadata": {},
   "outputs": [],
   "source": []
  }
 ],
 "metadata": {
  "kernelspec": {
   "display_name": "Python 3 (ipykernel)",
   "language": "python",
   "name": "python3"
  },
  "language_info": {
   "codemirror_mode": {
    "name": "ipython",
    "version": 3
   },
   "file_extension": ".py",
   "mimetype": "text/x-python",
   "name": "python",
   "nbconvert_exporter": "python",
   "pygments_lexer": "ipython3",
   "version": "3.10.5"
  }
 },
 "nbformat": 4,
 "nbformat_minor": 5
}
