{
 "cells": [
  {
   "cell_type": "markdown",
   "id": "b582922e-d41f-4b1b-a56c-8281de8c50af",
   "metadata": {},
   "source": [
    "## Workbook to test convergence of the derivative of a function from a simple model\n",
    "\n",
    "Define two points: (x1,y1) and (x2,y2) on straightlines with gradient -1 passing through (0.5,0.5) and (1.5,0.5) respectively.\n",
    "The locations on each line are given by\n",
    "\n",
    "$x1,y1 = 0.5 + \\theta_1, 0.5 - \\theta_1$\n",
    "\n",
    "$x2,y2 = 1.5 + \\theta_2, 0.5 - \\theta_2$\n",
    "\n",
    "If $\\theta_1$ and $\\theta_2$ are normally distributed random variables with mean of 0, then the average positions are (0.5,0.5) and (1.5,0.5) and so the gradient of the average is 0.\n",
    "\n",
    "It is easy to compute however the gradient for each model realisation, and then compute the average of this.\n",
    "Not only is the average nonzero, but is doesn't converge with ensemble size.\n",
    "\n",
    "The same conclusion is reached for a uniform distribution.\n",
    "\n",
    "The upshot is that if an ensemble converges (i.e. the average is defined), then the gradient of the average exists.\n",
    "However, it is not always the case that the average gradient exists (in this example, it does not).\n"
   ]
  },
  {
   "cell_type": "code",
   "execution_count": 1,
   "id": "34b6c4dc-4f4a-4d6b-bc19-2bb169875f89",
   "metadata": {},
   "outputs": [],
   "source": [
    "import numpy as np\n",
    "number_values = 1000000"
   ]
  },
  {
   "cell_type": "code",
   "execution_count": 2,
   "id": "9cdd9e40-0dc1-41e6-8cd1-38f0c8b1b850",
   "metadata": {},
   "outputs": [],
   "source": [
    "theta_vals = np.random.normal(loc=0,scale=1,size=(2,number_values) )"
   ]
  },
  {
   "cell_type": "code",
   "execution_count": 3,
   "id": "6d432308-c038-46c9-bdad-a6c160025801",
   "metadata": {},
   "outputs": [],
   "source": [
    "x1,y1 = 1.5 + theta_vals[0,:], 0.5 - theta_vals[0,:]\n",
    "x2,y2 = 0.5 + theta_vals[1,:], 0.5 - theta_vals[1,:]\n"
   ]
  },
  {
   "cell_type": "markdown",
   "id": "2805c5fe-dbe5-435a-aa2f-254249a3042e",
   "metadata": {},
   "source": [
    "#### Gradient of average:"
   ]
  },
  {
   "cell_type": "code",
   "execution_count": 4,
   "id": "45eecb79-935a-44c9-941b-8f5708e9e5de",
   "metadata": {},
   "outputs": [
    {
     "name": "stdout",
     "output_type": "stream",
     "text": [
      "Gradient of average model is 0.000045\n"
     ]
    }
   ],
   "source": [
    "print( 'Gradient of average model is {0:f}'.format( (y2.mean() - y1.mean() ) / (x2.mean() - x1.mean() ) ))"
   ]
  },
  {
   "cell_type": "code",
   "execution_count": 5,
   "id": "11d5f871-c5dc-4a96-8296-0b2c90838568",
   "metadata": {},
   "outputs": [
    {
     "name": "stdout",
     "output_type": "stream",
     "text": [
      "Average absolute gradient of models is 21.861560\n"
     ]
    }
   ],
   "source": [
    "print( 'Average absolute gradient of models is {0:f}'. format( abs((y2 - y1 ) / (x2 - x1 )).mean() ) )"
   ]
  },
  {
   "cell_type": "code",
   "execution_count": 6,
   "id": "6bd7b1dd-ad29-4231-902a-e8dd1ad192e7",
   "metadata": {},
   "outputs": [
    {
     "data": {
      "image/png": "[encoded data removed]",
      "text/plain": [
       "<Figure size 432x288 with 1 Axes>"
      ]
     },
     "metadata": {
      "needs_background": "light"
     },
     "output_type": "display_data"
    }
   ],
   "source": [
    "import matplotlib.pyplot as plt\n",
    "plt.hist(abs( (y2 - y1 ) / (x2 - x1 )))\n",
    "plt.yscale('log')\n",
    "\n",
    "# See the high values"
   ]
  },
  {
   "cell_type": "markdown",
   "id": "265d2695-1ca3-4b31-bdae-c683a09b483e",
   "metadata": {},
   "source": [
    "#### Plot convergence with n: the series does not converge."
   ]
  },
  {
   "cell_type": "code",
   "execution_count": 7,
   "id": "930968a1-a2b0-46b4-928d-dde7bfe09135",
   "metadata": {},
   "outputs": [],
   "source": [
    "trunc_grad = np.zeros(7)\n",
    "for i in range(7):\n",
    "    high = 10**i\n",
    "    trunc_grad[i] =  abs((y2[0:high] - y1[0:high] ) / (x2[0:high] - x1[0:high] )).mean()"
   ]
  },
  {
   "cell_type": "code",
   "execution_count": 8,
   "id": "51877e51-f96a-4763-b01e-ae7f73fa1a61",
   "metadata": {},
   "outputs": [
    {
     "data": {
      "text/plain": [
       "[<matplotlib.lines.Line2D at 0x7f9009aa9e50>]"
      ]
     },
     "execution_count": 8,
     "metadata": {},
     "output_type": "execute_result"
    },
    {
     "data": {
      "image/png": "[encoded data removed]",
      "text/plain": [
       "<Figure size 432x288 with 1 Axes>"
      ]
     },
     "metadata": {
      "needs_background": "light"
     },
     "output_type": "display_data"
    }
   ],
   "source": [
    "plt.figure()\n",
    "plt.semilogx( [1,10,100,1000,10000,100000,1000000], trunc_grad,'o')"
   ]
  },
  {
   "cell_type": "code",
   "execution_count": 13,
   "id": "6cca2e03-76b0-4b5b-a946-9c113b45d966",
   "metadata": {},
   "outputs": [
    {
     "data": {
      "text/plain": [
       "8.773361723878818"
      ]
     },
     "execution_count": 13,
     "metadata": {},
     "output_type": "execute_result"
    }
   ],
   "source": [
    "np.percentile( abs((y2 - y1 ) / (x2 - x1 )) , 95)\n"
   ]
  },
  {
   "cell_type": "code",
   "execution_count": 48,
   "id": "c5595462-2b3c-44f8-9b5c-fb56706a1364",
   "metadata": {},
   "outputs": [
    {
     "data": {
      "text/plain": [
       "[<matplotlib.lines.Line2D at 0x7f900c0e6580>]"
      ]
     },
     "execution_count": 48,
     "metadata": {},
     "output_type": "execute_result"
    },
    {
     "data": {
      "image/png": "[encoded data removed]",
      "text/plain": [
       "<Figure size 432x288 with 1 Axes>"
      ]
     },
     "metadata": {
      "needs_background": "light"
     },
     "output_type": "display_data"
    }
   ],
   "source": [
    "trunc_grad95 = np.zeros(7)\n",
    "trunc_grad5 = np.zeros(7)\n",
    "trunc_grad50 = np.zeros(7)\n",
    "\n",
    "for i in range(7):\n",
    "    high = 10**i\n",
    "    trunc_grad95[i] =  np.percentile( abs((y2[0:high] - y1[0:high] ) / (x2[0:high] - x1[0:high] )),95)\n",
    "    trunc_grad5[i] =  np.percentile( abs((y2[0:high] - y1[0:high] ) / (x2[0:high] - x1[0:high] )),5)\n",
    "    trunc_grad50[i] =  np.percentile( abs((y2[0:high] - y1[0:high] ) / (x2[0:high] - x1[0:high] )),50)\n",
    "\n",
    "plt.figure()\n",
    "plt.semilogx( [1,10,100,1000,10000,100000,1000000], trunc_grad95,'o')\n",
    "plt.semilogx( [1,10,100,1000,10000,100000,1000000], trunc_grad50,'o')\n",
    "plt.semilogx( [1,10,100,1000,10000,100000,1000000], trunc_grad5,'o')"
   ]
  },
  {
   "cell_type": "code",
   "execution_count": 49,
   "id": "f6bf791d-b9b6-48e6-b547-357d3585f5f8",
   "metadata": {},
   "outputs": [
    {
     "data": {
      "text/plain": [
       "[<matplotlib.lines.Line2D at 0x7f900c03c850>]"
      ]
     },
     "execution_count": 49,
     "metadata": {},
     "output_type": "execute_result"
    },
    {
     "data": {
      "image/png": "[encoded data removed]",
      "text/plain": [
       "<Figure size 432x288 with 1 Axes>"
      ]
     },
     "metadata": {
      "needs_background": "light"
     },
     "output_type": "display_data"
    }
   ],
   "source": [
    "\n",
    "data = abs((y2 - y1 ) / (x2 - x1 ))\n",
    "bins = np.arange(0,20,step=0.1)\n",
    "#plt.hist(data[0:1000] , bins=bins,density=True,color='b'  )\n",
    "p, x = np.histogram(data[0:1000], bins=bins, density=True) # bin it into n = N//10 bins\n",
    "x = x[:-1] + (x[1] - x[0])/2   # convert bin edges to centers\n",
    "plt.plot(x, p)\n",
    "\n",
    "p, x = np.histogram(data[0:10000], bins=bins, density=True) # bin it into n = N//10 bins\n",
    "x = x[:-1] + (x[1] - x[0])/2   # convert bin edges to centers\n",
    "plt.plot(x, p ,'r')\n",
    "\n",
    "p, x = np.histogram(data[0:100000], bins=bins, density=True) # bin it into n = N//10 bins\n",
    "x = x[:-1] + (x[1] - x[0])/2   # convert bin edges to centers\n",
    "plt.plot(x, p ,'g')\n",
    "\n"
   ]
  },
  {
   "cell_type": "code",
   "execution_count": null,
   "id": "ff2537f9-4520-41f5-8d49-6b491197d98c",
   "metadata": {},
   "outputs": [],
   "source": []
  },
  {
   "cell_type": "markdown",
   "id": "15bec5f0-b067-44d5-9fa4-e76cea8ed8c0",
   "metadata": {},
   "source": [
    "#### Now try a uniform distribution. This has the advantage that the gradient is never infinite."
   ]
  },
  {
   "cell_type": "code",
   "execution_count": 64,
   "id": "033ea97e-6e52-4e19-a83d-aacab85ab1ed",
   "metadata": {},
   "outputs": [],
   "source": [
    "theta_vals = np.random.uniform(low=0, high = 1, size=(2,number_values) )\n",
    "x1,y1 = 1.5 + theta_vals[0,:], 0.5 - theta_vals[0,:]\n",
    "x2,y2 = 0.5 + theta_vals[1,:], 0.5 - theta_vals[1,:]\n"
   ]
  },
  {
   "cell_type": "code",
   "execution_count": 65,
   "id": "91b60485-280e-4366-abae-057e30f4a7df",
   "metadata": {},
   "outputs": [
    {
     "name": "stdout",
     "output_type": "stream",
     "text": [
      "Gradient of average model is 0.000482\n"
     ]
    }
   ],
   "source": [
    "print( 'Gradient of average model is {0:f}'.format( (y2.mean() - y1.mean() ) / (x2.mean() - x1.mean() ) ))"
   ]
  },
  {
   "cell_type": "code",
   "execution_count": 66,
   "id": "50eddd80-0ab1-4f60-b0ca-eb9c41e7707b",
   "metadata": {},
   "outputs": [
    {
     "name": "stdout",
     "output_type": "stream",
     "text": [
      "Average absolute gradient of models is 0.612394\n"
     ]
    }
   ],
   "source": [
    "print( 'Average absolute gradient of models is {0:f}'. format( abs((y2 - y1 ) / (x2 - x1 )).mean() ) )"
   ]
  },
  {
   "cell_type": "code",
   "execution_count": 67,
   "id": "5aa377d1-9c0e-42ed-88c4-a66f03ae03ee",
   "metadata": {},
   "outputs": [
    {
     "data": {
      "image/png": "[encoded data removed]",
      "text/plain": [
       "<Figure size 432x288 with 1 Axes>"
      ]
     },
     "metadata": {
      "needs_background": "light"
     },
     "output_type": "display_data"
    }
   ],
   "source": [
    "import matplotlib.pyplot as plt\n",
    "plt.hist(abs( (y2 - y1 ) / (x2 - x1 )))\n",
    "plt.yscale('log')\n",
    "\n",
    "# See the high values"
   ]
  },
  {
   "cell_type": "markdown",
   "id": "91960adf-0643-49a0-a38d-6b227f0e0370",
   "metadata": {},
   "source": [
    "#### Plot convergence with n: the series does not converge."
   ]
  },
  {
   "cell_type": "code",
   "execution_count": 68,
   "id": "e7382798-c58e-424b-ae93-e21fa6484b50",
   "metadata": {},
   "outputs": [],
   "source": [
    "trunc_grad = np.zeros(7)\n",
    "for i in range(7):\n",
    "    high = 10**i\n",
    "    trunc_grad[i] =  abs((y2[0:high] - y1[0:high] ) / (x2[0:high] - x1[0:high] )).mean()"
   ]
  },
  {
   "cell_type": "code",
   "execution_count": 69,
   "id": "488b880b-ef76-44b6-a142-2db9e182ee1d",
   "metadata": {},
   "outputs": [
    {
     "data": {
      "text/plain": [
       "[<matplotlib.lines.Line2D at 0x1e13a1f00>]"
      ]
     },
     "execution_count": 69,
     "metadata": {},
     "output_type": "execute_result"
    },
    {
     "data": {
      "image/png": "[encoded data removed]",
      "text/plain": [
       "<Figure size 432x288 with 1 Axes>"
      ]
     },
     "metadata": {
      "needs_background": "light"
     },
     "output_type": "display_data"
    }
   ],
   "source": [
    "plt.figure()\n",
    "plt.semilogx( [1,10,100,1000,10000,100000,1000000], trunc_grad,'o')\n"
   ]
  },
  {
   "cell_type": "code",
   "execution_count": null,
   "id": "4059b20b-be87-46bd-b3ad-3b49b4cd7ae5",
   "metadata": {},
   "outputs": [],
   "source": []
  },
  {
   "cell_type": "code",
   "execution_count": null,
   "id": "37ceeb3e-ab2e-4076-99e2-703d1e3ddc4b",
   "metadata": {},
   "outputs": [],
   "source": []
  },
  {
   "cell_type": "code",
   "execution_count": null,
   "id": "6812eb7d-bf5c-4224-b7a6-31150ddc8fa4",
   "metadata": {},
   "outputs": [],
   "source": []
  },
  {
   "cell_type": "code",
   "execution_count": null,
   "id": "eaa641ed-b095-41e8-997a-cf169f426ede",
   "metadata": {},
   "outputs": [],
   "source": []
  }
 ],
 "metadata": {
  "kernelspec": {
   "display_name": "Python 3 (ipykernel)",
   "language": "python",
   "name": "python3"
  },
  "language_info": {
   "codemirror_mode": {
    "name": "ipython",
    "version": 3
   },
   "file_extension": ".py",
   "mimetype": "text/x-python",
   "name": "python",
   "nbconvert_exporter": "python",
   "pygments_lexer": "ipython3",
   "version": "3.9.7"
  }
 },
 "nbformat": 4,
 "nbformat_minor": 5
}
