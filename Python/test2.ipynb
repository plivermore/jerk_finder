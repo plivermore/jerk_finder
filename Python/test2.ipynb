{
 "cells": [
  {
   "cell_type": "code",
   "execution_count": 3,
   "id": "excessive-filter",
   "metadata": {},
   "outputs": [
    {
     "name": "stdout",
     "output_type": "stream",
     "text": [
      "Shape of gmn array:  (960, 50001)\n",
      "Times (in years) of output [ 4200.   4200.2  4200.4 ... 14199.6 14199.8 14200. ]\n",
      "6371.2 -24.90439484304261\n",
      "[0.0235  0.3685  0.68175 0.9735  0.082   0.084   0.535   0.42275 0.05125\n",
      " 0.155   0.998   0.26075 0.161   0.959   0.2185  0.997   0.139   0.8905\n",
      " 0.051   0.968   0.03925]\n",
      "[ 0.24189818  2.22418607  4.02231496  6.80622389  0.29649423  0.26216643\n",
      "  0.98799834  1.03094472  0.10089275  0.52824567 67.76014567  1.28352231\n",
      "  0.32374257 10.0395643   1.49159422  9.19141671  0.8128151   3.70327807\n",
      "  0.1246398   5.48249174  0.91823174]\n"
     ]
    }
   ],
   "source": [
    "import sys\n",
    "import os\n",
    "import datetime as dt\n",
    "import pandas as pd\n",
    "import numpy as np\n",
    "import matplotlib.pyplot as plt\n",
    "import warnings\n",
    "sys.path.append( os.path.abspath('..') )\n",
    "from jerks import jerks\n",
    "import chaosmagpy as cp\n",
    "\n",
    "# %%\n",
    "# Download the spherical harmonic time-series output from the path model\n",
    "import os.path\n",
    "if not os.path.exists('Gauss_Bsurf.mat'):\n",
    "    os.system('wget --no-verbose http://morpho.ipgp.fr/4DEarth/Gauss_Bsurf.mat')\n",
    "\n",
    "# %%\n",
    "# import the dataset\n",
    "import h5py\n",
    "filepath = 'Gauss_Bsurf.mat'\n",
    "arrays = {}\n",
    "f = h5py.File(filepath,'r')\n",
    "for k, v in f.items():\n",
    "    arrays[k] = np.array(v)\n",
    "\n",
    "# %%\n",
    "coeffs = arrays['gnm'][:,:].T\n",
    "time = arrays['timers'].flatten()\n",
    "print( 'Shape of gmn array: ', arrays['gnm'].shape )\n",
    "print ('Times (in years) of output', time )\n",
    "\n",
    "# %%\n",
    "# jerk times as defined in catalogue\n",
    "jerk_times = [4600,5750,2920, 1915, 6490,7300,7620,7840,8880,9673,10590,12620,13411,13546]\n",
    "\"\"\"\n",
    "# %%\n",
    "\"\"\"\n",
    "\n",
    "\n",
    "radius = 6371.2\n",
    "theta = 80\n",
    "phi = 30\n",
    "jerk_number = 8 # in Python indexing\n",
    "\n",
    "# sample every year\n",
    "time_yearly = np.arange(jerk_times[jerk_number]-200,jerk_times[jerk_number]+200+1)\n",
    "\n",
    "Br, Btheta, Bphi = cp.model_utils.synth_values(coeffs, radius, theta, phi,nmax=13)\n",
    "Br_yearly,Btheta_yearly, Bphi_yearly = np.interp(time_yearly, time, Br ), np.interp(time_yearly, time, Btheta ), np.interp(time_yearly, time, Bphi )\n",
    "Bx_dot, By_dot, Bz_dot = -np.gradient(Btheta_yearly,time_yearly), np.gradient(Bphi_yearly,time_yearly), -np.gradient(Br_yearly,time_yearly)\n",
    "\n",
    "SV_error = 10\n",
    "discretise_size = 100\n",
    "TIMES = time_yearly\n",
    "NUM_DATA = len(TIMES)\n",
    "TIMES_MIN = TIMES.min()\n",
    "TIMES_MAX = TIMES.max()\n",
    "CP_NBINS = int(TIMES_MAX - TIMES_MIN) #one per year\n",
    "    \n",
    "time_intervals_edges = np.arange(-210,211,20) + jerk_times[jerk_number]\n",
    "time_intervals_nbins = time_intervals_edges.shape[0]-1\n",
    "SV = By_dot\n",
    "delta_SV = SV_error * 0.01 * (SV.max() - SV.min()) * np.ones(NUM_DATA,dtype=float)\n",
    "SV_MIN = -400\n",
    "SV_MAX = 400\n",
    "\n",
    "K_MIN = 0\n",
    "K_MAX = 100\n",
    "sigmas = np.array([10,5,10],dtype = float)\n",
    "TIME_grid = np.linspace(TIMES_MIN, TIMES_MAX, discretise_size, endpoint=True)\n",
    "# sigma_change_value = sigmas(1)\n",
    "# sigma_move = sigmas(2)\n",
    "# sigma_birth = sigmas(3)\n",
    "\n",
    "THIN = 1000\n",
    "NBINS = 100\n",
    "credible = 0.0\n",
    "RUNNING_MODE = 1\n",
    "burn_in = 10000\n",
    "NSAMPLE = 2*2000000+burn_in\n",
    "Acceptance_rates=np.zeros(4)\n",
    "AV = np.zeros(discretise_size,dtype=float)\n",
    "SUP = np.zeros(discretise_size,dtype=float)\n",
    "INF = np.zeros(discretise_size,dtype=float)\n",
    "MEDIAN = np.zeros(discretise_size,dtype=float)\n",
    "MODE = np.zeros(discretise_size,dtype=float)\n",
    "CP_hist_run = np.zeros( CP_NBINS, dtype=float )\n",
    "MARGINAL_DENSITY = np.zeros( (discretise_size,NBINS),dtype=float )\n",
    "N_CP_hist = np.zeros( K_MAX, dtype=int)\n",
    "delta_slope = np.zeros( time_intervals_nbins,dtype=float )\n",
    "# print(sigmas, burn_in, NSAMPLE, NUM_DATA, delta_SV, SV_MIN, SV_MAX, TIMES_MIN, TIMES_MAX, time_intervals_nbins, THIN )\n",
    "#print( SV_error, SV.max(),SV.min(), NUM_DATA)\n",
    "print( radius, SV[0] )\n",
    "(Acceptance_rates, SUP, INF, AV, MEDIAN, MODE, CP_hist_run, delta_slope, MARGINAL_DENSITY, N_CP_hist) = jerks.rjmcmc(\n",
    " sigmas=sigmas, burn_in=burn_in,\n",
    "     nsample=NSAMPLE, num_data=NUM_DATA, times=TIMES, y=SV, delta_y=delta_SV,\n",
    "     y_min=SV_MIN, y_max=SV_MAX, times_min=TIMES_MIN, times_max=TIMES_MAX, k_min=K_MIN,\n",
    "     k_max=K_MAX, discretise_size=discretise_size, time_intervals_nbins = time_intervals_nbins,time_intervals_edges = time_intervals_edges,\n",
    "     thin=THIN, nbins=NBINS, credible=credible, running_mode=RUNNING_MODE)\n",
    "CP_hist_run = CP_hist_run / ( (NSAMPLE-burn_in)/THIN )\n",
    "print(CP_hist_run)\n",
    "print(delta_slope)\n"
   ]
  },
  {
   "cell_type": "code",
   "execution_count": 15,
   "id": "premium-mainstream",
   "metadata": {},
   "outputs": [],
   "source": []
  },
  {
   "cell_type": "code",
   "execution_count": null,
   "id": "floral-camel",
   "metadata": {},
   "outputs": [],
   "source": [
    "6371.2 -24.904394843035334\n",
    "[0.02   0.3965 0.6525 0.973  0.0745 0.081  0.544  0.419  0.0535 0.1515\n",
    " 0.999  0.2885 0.153  0.9635 0.2215 0.995  0.1385 0.9065 0.0465 0.963\n",
    " 0.038 ]\n",
    "[ 0.37661318  2.79926776  3.76782171  6.68519396  0.26376192  0.3775237\n",
    "  0.95568032  0.85160659  0.10292757  0.50914217 59.10075059  1.73021188\n",
    "  0.48788166  9.44530004  1.25531484 10.78655198  2.9615904   3.45671539\n",
    "  0.1244305   5.46977858  0.34695012]\n"
   ]
  },
  {
   "cell_type": "code",
   "execution_count": null,
   "id": "greenhouse-vector",
   "metadata": {},
   "outputs": [],
   "source": [
    "6371.0 -24.907694409823307\n",
    "[0.022  0.361  0.69   0.968  0.086  0.09   0.5375 0.421  0.051  0.136\n",
    " 0.9995 0.279  0.1365 0.962  0.218  0.994  0.149  0.8875 0.046  0.964\n",
    " 0.0405]\n",
    "[ 0.58705406  1.98371541  3.89316342  6.74313346  0.30646641  0.45461301\n",
    "  1.02816104  1.17123766 26.20987126  0.4456229  62.69502187  9.29135336\n",
    "  0.27374832  9.309506    1.4046503  20.50644924  0.62925594  3.44356379\n",
    "  0.09621042  5.21061534  0.45555827]"
   ]
  },
  {
   "cell_type": "code",
   "execution_count": null,
   "id": "excess-representation",
   "metadata": {},
   "outputs": [],
   "source": [
    "6370.8 -24.91099459828365\n",
    "[0.02   0.377  0.6715 0.9725 0.068  0.073  0.5615 0.407  0.049  0.141\n",
    " 0.9985 0.3    0.1345 0.9595 0.213  0.993  0.1615 0.8695 0.0535 0.961\n",
    " 0.044 ]\n",
    "[2.69482732e-01 2.17001192e+00 3.89395909e+00 7.03270302e+00\n",
    " 2.73976349e-01 2.74243320e-01 9.76509715e-01 9.03469155e-01\n",
    " 6.41550180e-02 8.26155448e-01 7.34066037e+01 2.80431060e+00\n",
    " 2.73449070e-01 9.47729098e+00 1.43504881e+00 1.04191697e+01\n",
    " 7.52165709e-01 4.44430945e+00 1.33179662e-01 5.16594256e+00\n",
    " 1.96115862e+00]"
   ]
  },
  {
   "cell_type": "code",
   "execution_count": null,
   "id": "deluxe-hampton",
   "metadata": {},
   "outputs": [],
   "source": []
  },
  {
   "cell_type": "code",
   "execution_count": 18,
   "id": "thrown-student",
   "metadata": {},
   "outputs": [
    {
     "name": "stdout",
     "output_type": "stream",
     "text": [
      "302.31950671505945\n",
      "302.25192565314387\n",
      "302.18436184790653\n"
     ]
    },
    {
     "data": {
      "text/plain": [
       "(-100.0, 0.0)"
      ]
     },
     "execution_count": 18,
     "metadata": {},
     "output_type": "execute_result"
    },
    {
     "data": {
      "image/png": "[encoded data removed]",
      "text/plain": [
       "<Figure size 432x288 with 1 Axes>"
      ]
     },
     "metadata": {
      "needs_background": "light"
     },
     "output_type": "display_data"
    }
   ],
   "source": [
    "plt.figure()\n",
    "\n",
    "radius = 6371.0 -  0.2\n",
    "theta = 80\n",
    "phi = 30\n",
    "jerk_number = 8 # in Python indexing\n",
    "\n",
    "# sample every year\n",
    "time_yearly = np.arange(jerk_times[jerk_number]-200,jerk_times[jerk_number]+200+1)\n",
    "\n",
    "Br, Btheta, Bphi = cp.model_utils.synth_values(coeffs, radius, theta, phi,nmax=13)\n",
    "Br_yearly,Btheta_yearly, Bphi_yearly = np.interp(time_yearly, time, Br ), np.interp(time_yearly, time, Btheta ), np.interp(time_yearly, time, Bphi )\n",
    "Bx_dot, By_dot, Bz_dot = -np.gradient(Btheta_yearly,time_yearly), np.gradient(Bphi_yearly,time_yearly), -np.gradient(Br_yearly,time_yearly)\n",
    "plt.plot(time_yearly, By_dot,color='blue')\n",
    "print(By_dot.max() - By_dot.min())\n",
    "\n",
    "radius = 6371.0  \n",
    "Br, Btheta, Bphi = cp.model_utils.synth_values(coeffs, radius, theta, phi,nmax=13)\n",
    "Br_yearly,Btheta_yearly, Bphi_yearly = np.interp(time_yearly, time, Br ), np.interp(time_yearly, time, Btheta ), np.interp(time_yearly, time, Bphi )\n",
    "Bx_dot, By_dot, Bz_dot = -np.gradient(Btheta_yearly,time_yearly), np.gradient(Bphi_yearly,time_yearly), -np.gradient(Br_yearly,time_yearly)\n",
    "print(By_dot.max() - By_dot.min())\n",
    "\n",
    "plt.plot(time_yearly, By_dot, color='red')\n",
    "\n",
    "radius = 6371.0   + 0.2\n",
    "Br, Btheta, Bphi = cp.model_utils.synth_values(coeffs, radius, theta, phi,nmax=13)\n",
    "Br_yearly,Btheta_yearly, Bphi_yearly = np.interp(time_yearly, time, Br ), np.interp(time_yearly, time, Btheta ), np.interp(time_yearly, time, Bphi )\n",
    "Bx_dot, By_dot, Bz_dot = -np.gradient(Btheta_yearly,time_yearly), np.gradient(Bphi_yearly,time_yearly), -np.gradient(Br_yearly,time_yearly)\n",
    "print(By_dot.max() - By_dot.min())\n",
    "\n",
    "plt.plot(time_yearly, By_dot, color='black')\n",
    "\n",
    "plt.xlim([8870,8900])\n",
    "plt.ylim([-100,0])\n"
   ]
  },
  {
   "cell_type": "code",
   "execution_count": 13,
   "id": "dominican-hebrew",
   "metadata": {},
   "outputs": [
    {
     "data": {
      "text/plain": [
       "1.0004455558189709"
      ]
     },
     "execution_count": 13,
     "metadata": {},
     "output_type": "execute_result"
    }
   ],
   "source": [
    "302.319 / 302.18436"
   ]
  },
  {
   "cell_type": "code",
   "execution_count": null,
   "id": "computational-degree",
   "metadata": {},
   "outputs": [],
   "source": []
  }
 ],
 "metadata": {
  "kernelspec": {
   "display_name": "Python 3 (ipykernel)",
   "language": "python",
   "name": "python3"
  },
  "language_info": {
   "codemirror_mode": {
    "name": "ipython",
    "version": 3
   },
   "file_extension": ".py",
   "mimetype": "text/x-python",
   "name": "python",
   "nbconvert_exporter": "python",
   "pygments_lexer": "ipython3",
   "version": "3.9.7"
  }
 },
 "nbformat": 4,
 "nbformat_minor": 5
}
