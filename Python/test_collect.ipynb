{
 "cells": [
  {
   "cell_type": "code",
   "execution_count": 33,
   "id": "liable-rochester",
   "metadata": {},
   "outputs": [
    {
     "name": "stdout",
     "output_type": "stream",
     "text": [
      "Shape of gmn array:  (960, 50001)\n",
      "Times (in years) of output [ 4200.   4200.2  4200.4 ... 14199.6 14199.8 14200. ]\n"
     ]
    }
   ],
   "source": [
    "# %%\n",
    "#%matplotlib widget\n",
    "from multiprocessing import Pool\n",
    "import sys\n",
    "import os\n",
    "import datetime as dt\n",
    "import pandas as pd\n",
    "import numpy as np\n",
    "import matplotlib.pyplot as plt\n",
    "import warnings\n",
    "sys.path.append( os.path.abspath('..') )\n",
    "from jerks import jerks\n",
    "import chaosmagpy as cp\n",
    "\n",
    "# %%\n",
    "# Download the spherical harmonic time-series output from the path model\n",
    "import os.path\n",
    "if not os.path.exists('Gauss_Bsurf.mat'):\n",
    "    os.system('wget --no-verbose http://morpho.ipgp.fr/4DEarth/Gauss_Bsurf.mat')\n",
    "\n",
    "# %%\n",
    "# import the dataset\n",
    "import h5py\n",
    "filepath = 'Gauss_Bsurf.mat'\n",
    "arrays = {}\n",
    "f = h5py.File(filepath,'r')\n",
    "for k, v in f.items():\n",
    "    arrays[k] = np.array(v)\n",
    "\n",
    "# %%\n",
    "coeffs = arrays['gnm'][:,:].T\n",
    "time = arrays['timers'].flatten()\n",
    "print( 'Shape of gmn array: ', arrays['gnm'].shape )\n",
    "print ('Times (in years) of output', time )\n",
    "\n",
    "# %%\n",
    "# jerk times as defined in catalogue\n",
    "jerk_times = [4600,5750,2920, 1915, 6490,7300,7620,7840,8880,9673,10590,12620,13411,13546]\n",
    "\"\"\"\n",
    "# %%\n",
    "\"\"\"\n",
    "# %%\n",
    "# Run the model on a lat/long grid over the 400 years spanning jerk 9\n",
    "# Assume 10% error\n",
    "# Collect all the histograms into a list and save to disk - this takes a while...\n",
    "# AF attempt at a multithreading approach \n",
    "jerk_number = 5 # in Python indexing\n",
    "time_yearly = np.arange(jerk_times[jerk_number]-200,jerk_times[jerk_number]+200+1)\n",
    "\n",
    "run_components=[0, 1, 2]\n",
    "\n",
    "ncomp = len(run_components)\n",
    "\n",
    "SV_error = 10\n",
    "SV_MIN = -400\n",
    "SV_MAX = 400 \n",
    "discretise_size = 100\n",
    "TIMES = time_yearly\n",
    "TIMES_MIN = TIMES.min()\n",
    "TIMES_MAX = TIMES.max()\n",
    "NUM_DATA = len(TIMES)\n",
    "\n",
    "# ****************************************\n",
    "# Define diagnostic time bins here\n",
    "# ****************************************\n",
    "time_intervals_edges = np.arange(-210,211,20) + jerk_times[jerk_number]\n",
    "time_intervals_nbins = time_intervals_edges.shape[0]-1\n",
    "\n",
    "\n",
    "# ****************************************\n",
    "\n",
    "\n",
    "CP_hist_save = np.zeros( (len(run_components),time_intervals_nbins), dtype=int )\n",
    "\n",
    "ntheta = 2\n",
    "nphi =2\n",
    "\n",
    "radius = 6371.2\n",
    "phis = np.linspace(-180, 180 , nphi, endpoint=False, dtype=float)\n",
    "thetas = np.linspace(-80,80, ntheta, endpoint=True, dtype=float) + 90.\n",
    "theta_grid, phi_grid = np.meshgrid(thetas, phis)\n",
    "thetaphi_g = np.transpose(np.vstack((theta_grid.flatten(), phi_grid.flatten())))\n",
    "npt = np.shape(thetaphi_g)[0]\n",
    "\n",
    "def my_calc_par(thetaphi_g):\n",
    "\n",
    "    npt = np.shape(thetaphi_g)[0]\n",
    "    loc_results = []\n",
    "    theta_l = thetaphi_g[0]\n",
    "    phi_l = thetaphi_g[1]\n",
    "    Br, Btheta, Bphi = cp.model_utils.synth_values(coeffs, radius, theta_l, phi_l, nmax=13)\n",
    "    Br_yearly,Btheta_yearly, Bphi_yearly = np.interp(time_yearly, time, Br ), np.interp(time_yearly, time, Btheta ), np.interp(time_yearly, time, Bphi )\n",
    "    Bx_dot, By_dot, Bz_dot = -np.gradient(Btheta_yearly,time_yearly), np.gradient(Bphi_yearly,time_yearly), -np.gradient(Br_yearly,time_yearly)\n",
    "    for i in run_components:\n",
    "        #print(i)\n",
    "        if i == 0:\n",
    "            SV = Bx_dot\n",
    "        elif i == 1:\n",
    "            SV = By_dot\n",
    "        else:\n",
    "            SV = Bz_dot\n",
    "\n",
    "        delta_SV = 0.01 * SV_error * (SV.max() - SV.min()) * np.ones(NUM_DATA,dtype=float)\n",
    "        Y_MIN = -400\n",
    "        Y_MAX = 400\n",
    "\n",
    "        K_MIN = 0\n",
    "        K_MAX = 100\n",
    "        sigmas = np.array([10,5,10], dtype = float)\n",
    "        TIME_grid = np.linspace(TIMES_MIN, TIMES_MAX, discretise_size, endpoint=True)\n",
    "        # sigma_change_value = sigmas(1)\n",
    "        # sigma_move = sigmas(2)\n",
    "        # sigma_birth = sigmas(3)\n",
    "\n",
    "        THIN = 100\n",
    "        NBINS = 100\n",
    "        credible = 0.0\n",
    "        build_marginal_intensity = True\n",
    "        RUNNING_MODE = 1\n",
    "        burn_in = 10000\n",
    "        NSAMPLE = 20000000 + burn_in\n",
    "        Acceptance_rates=np.zeros(4)\n",
    "        AV = np.zeros(discretise_size,dtype=float)\n",
    "        SUP = np.zeros(discretise_size,dtype=float)\n",
    "        INF = np.zeros(discretise_size,dtype=float)\n",
    "        MEDIAN = np.zeros(discretise_size,dtype=float)\n",
    "        MODE = np.zeros(discretise_size,dtype=float)\n",
    "        CP_hist_run = np.zeros( time_intervals_nbins, dtype=int )\n",
    "        MARGINAL_DENSITY = np.zeros( (discretise_size,NBINS),dtype=float )\n",
    "        N_CP_hist = np.zeros( K_MAX, dtype=int)\n",
    "        delta_slope = np.zeros( time_intervals_nbins,dtype=int )\n",
    "\n",
    "        \n",
    "      #  (Acceptance_rates,SUP, INF, AV, MEDIAN, MODE, CP_hist_run, delta_slope, MARGINAL_DENSITY, N_CP_hist) = jerks.rjmcmc(\n",
    "       #  sigmas=sigmas, burn_in=burn_in, \n",
    "       #  nsample=NSAMPLE, num_data=NUM_DATA, times=TIMES, y=SV, delta_y=delta_SV, \n",
    "       #  y_min=SV_MIN, y_max=SV_MAX, times_min=TIMES_MIN, times_max=TIMES_MAX, k_min=K_MIN, \n",
    "       #  k_max=K_MAX, discretise_size=discretise_size, time_intervals_nbins = time_intervals_nbins,time_intervals_edges = time_intervals_edges,\n",
    "       #  thin=THIN, nbins=NBINS, credible=credible, running_mode=RUNNING_MODE)\n",
    "\n",
    "        # save the model\n",
    "        fac = (NSAMPLE-burn_in)/THIN\n",
    "        loc_results += [theta_l, phi_l,i,CP_hist_run[:]/fac,delta_slope]\n",
    "    #print(loc_results)\n",
    "    return loc_results\n",
    "\n",
    "\n",
    "nproc = 1\n",
    "\n",
    "if __name__ == '__main__':\n",
    "    if nproc > 1:\n",
    "        results = []\n",
    "        with Pool(nproc) as p:\n",
    "            loc_results = p.map(my_calc_par, thetaphi_g)\n",
    "            results += loc_results\n",
    "    else:\n",
    "        results = []\n",
    "        for ipt in range(npt):\n",
    "            loc_results = my_calc_par( thetaphi_g[ipt]) \n",
    "            results += [loc_results]\n",
    "\n",
    "\n"
   ]
  },
  {
   "cell_type": "code",
   "execution_count": 34,
   "id": "upper-balance",
   "metadata": {},
   "outputs": [
    {
     "data": {
      "text/plain": [
       "4"
      ]
     },
     "execution_count": 34,
     "metadata": {},
     "output_type": "execute_result"
    }
   ],
   "source": [
    "len(results)"
   ]
  },
  {
   "cell_type": "code",
   "execution_count": 35,
   "id": "compound-horror",
   "metadata": {},
   "outputs": [
    {
     "data": {
      "text/plain": [
       "[[10.0,\n",
       "  -180.0,\n",
       "  0,\n",
       "  array([0., 0., 0., 0., 0., 0., 0., 0., 0., 0., 0., 0., 0., 0., 0., 0., 0.,\n",
       "         0., 0., 0., 0.]),\n",
       "  array([0, 0, 0, 0, 0, 0, 0, 0, 0, 0, 0, 0, 0, 0, 0, 0, 0, 0, 0, 0, 0]),\n",
       "  10.0,\n",
       "  -180.0,\n",
       "  1,\n",
       "  array([0., 0., 0., 0., 0., 0., 0., 0., 0., 0., 0., 0., 0., 0., 0., 0., 0.,\n",
       "         0., 0., 0., 0.]),\n",
       "  array([0, 0, 0, 0, 0, 0, 0, 0, 0, 0, 0, 0, 0, 0, 0, 0, 0, 0, 0, 0, 0]),\n",
       "  10.0,\n",
       "  -180.0,\n",
       "  2,\n",
       "  array([0., 0., 0., 0., 0., 0., 0., 0., 0., 0., 0., 0., 0., 0., 0., 0., 0.,\n",
       "         0., 0., 0., 0.]),\n",
       "  array([0, 0, 0, 0, 0, 0, 0, 0, 0, 0, 0, 0, 0, 0, 0, 0, 0, 0, 0, 0, 0])],\n",
       " [170.0,\n",
       "  -180.0,\n",
       "  0,\n",
       "  array([0., 0., 0., 0., 0., 0., 0., 0., 0., 0., 0., 0., 0., 0., 0., 0., 0.,\n",
       "         0., 0., 0., 0.]),\n",
       "  array([0, 0, 0, 0, 0, 0, 0, 0, 0, 0, 0, 0, 0, 0, 0, 0, 0, 0, 0, 0, 0]),\n",
       "  170.0,\n",
       "  -180.0,\n",
       "  1,\n",
       "  array([0., 0., 0., 0., 0., 0., 0., 0., 0., 0., 0., 0., 0., 0., 0., 0., 0.,\n",
       "         0., 0., 0., 0.]),\n",
       "  array([0, 0, 0, 0, 0, 0, 0, 0, 0, 0, 0, 0, 0, 0, 0, 0, 0, 0, 0, 0, 0]),\n",
       "  170.0,\n",
       "  -180.0,\n",
       "  2,\n",
       "  array([0., 0., 0., 0., 0., 0., 0., 0., 0., 0., 0., 0., 0., 0., 0., 0., 0.,\n",
       "         0., 0., 0., 0.]),\n",
       "  array([0, 0, 0, 0, 0, 0, 0, 0, 0, 0, 0, 0, 0, 0, 0, 0, 0, 0, 0, 0, 0])],\n",
       " [10.0,\n",
       "  0.0,\n",
       "  0,\n",
       "  array([0., 0., 0., 0., 0., 0., 0., 0., 0., 0., 0., 0., 0., 0., 0., 0., 0.,\n",
       "         0., 0., 0., 0.]),\n",
       "  array([0, 0, 0, 0, 0, 0, 0, 0, 0, 0, 0, 0, 0, 0, 0, 0, 0, 0, 0, 0, 0]),\n",
       "  10.0,\n",
       "  0.0,\n",
       "  1,\n",
       "  array([0., 0., 0., 0., 0., 0., 0., 0., 0., 0., 0., 0., 0., 0., 0., 0., 0.,\n",
       "         0., 0., 0., 0.]),\n",
       "  array([0, 0, 0, 0, 0, 0, 0, 0, 0, 0, 0, 0, 0, 0, 0, 0, 0, 0, 0, 0, 0]),\n",
       "  10.0,\n",
       "  0.0,\n",
       "  2,\n",
       "  array([0., 0., 0., 0., 0., 0., 0., 0., 0., 0., 0., 0., 0., 0., 0., 0., 0.,\n",
       "         0., 0., 0., 0.]),\n",
       "  array([0, 0, 0, 0, 0, 0, 0, 0, 0, 0, 0, 0, 0, 0, 0, 0, 0, 0, 0, 0, 0])],\n",
       " [170.0,\n",
       "  0.0,\n",
       "  0,\n",
       "  array([0., 0., 0., 0., 0., 0., 0., 0., 0., 0., 0., 0., 0., 0., 0., 0., 0.,\n",
       "         0., 0., 0., 0.]),\n",
       "  array([0, 0, 0, 0, 0, 0, 0, 0, 0, 0, 0, 0, 0, 0, 0, 0, 0, 0, 0, 0, 0]),\n",
       "  170.0,\n",
       "  0.0,\n",
       "  1,\n",
       "  array([0., 0., 0., 0., 0., 0., 0., 0., 0., 0., 0., 0., 0., 0., 0., 0., 0.,\n",
       "         0., 0., 0., 0.]),\n",
       "  array([0, 0, 0, 0, 0, 0, 0, 0, 0, 0, 0, 0, 0, 0, 0, 0, 0, 0, 0, 0, 0]),\n",
       "  170.0,\n",
       "  0.0,\n",
       "  2,\n",
       "  array([0., 0., 0., 0., 0., 0., 0., 0., 0., 0., 0., 0., 0., 0., 0., 0., 0.,\n",
       "         0., 0., 0., 0.]),\n",
       "  array([0, 0, 0, 0, 0, 0, 0, 0, 0, 0, 0, 0, 0, 0, 0, 0, 0, 0, 0, 0, 0])]]"
      ]
     },
     "execution_count": 35,
     "metadata": {},
     "output_type": "execute_result"
    }
   ],
   "source": [
    "results"
   ]
  },
  {
   "cell_type": "code",
   "execution_count": 42,
   "id": "comprehensive-voice",
   "metadata": {},
   "outputs": [
    {
     "data": {
      "text/plain": [
       "10.0"
      ]
     },
     "execution_count": 42,
     "metadata": {},
     "output_type": "execute_result"
    }
   ],
   "source": [
    "results[0][5]"
   ]
  },
  {
   "cell_type": "code",
   "execution_count": 12,
   "id": "continuing-murray",
   "metadata": {},
   "outputs": [],
   "source": [
    "q = loc_results[0] + loc_results[0]"
   ]
  },
  {
   "cell_type": "code",
   "execution_count": 13,
   "id": "wireless-sudan",
   "metadata": {},
   "outputs": [
    {
     "data": {
      "text/plain": [
       "6"
      ]
     },
     "execution_count": 13,
     "metadata": {},
     "output_type": "execute_result"
    }
   ],
   "source": [
    "len(q)"
   ]
  },
  {
   "cell_type": "code",
   "execution_count": 14,
   "id": "geographic-german",
   "metadata": {},
   "outputs": [
    {
     "data": {
      "text/plain": [
       "3"
      ]
     },
     "execution_count": 14,
     "metadata": {},
     "output_type": "execute_result"
    }
   ],
   "source": [
    "len(loc_results[0])"
   ]
  },
  {
   "cell_type": "code",
   "execution_count": null,
   "id": "solid-scanner",
   "metadata": {},
   "outputs": [],
   "source": []
  }
 ],
 "metadata": {
  "kernelspec": {
   "display_name": "Python 3 (ipykernel)",
   "language": "python",
   "name": "python3"
  },
  "language_info": {
   "codemirror_mode": {
    "name": "ipython",
    "version": 3
   },
   "file_extension": ".py",
   "mimetype": "text/x-python",
   "name": "python",
   "nbconvert_exporter": "python",
   "pygments_lexer": "ipython3",
   "version": "3.9.7"
  }
 },
 "nbformat": 4,
 "nbformat_minor": 5
}
