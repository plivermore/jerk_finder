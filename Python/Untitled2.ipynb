{
 "cells": [
  {
   "cell_type": "code",
   "execution_count": 1,
   "id": "4dae4ee2-7b51-4113-b644-9ba654830525",
   "metadata": {},
   "outputs": [
    {
     "data": {
      "text/plain": [
       "'Jerk9_5x5_100M_error15_5yr.results'"
      ]
     },
     "execution_count": 1,
     "metadata": {},
     "output_type": "execute_result"
    }
   ],
   "source": [
    "jerk_number = 8\n",
    "SV_error = 15\n",
    "\"Jerk{0:1d}_5x5_100M_error{1:d}_5yr.results\".format(jerk_number+1,SV_error)"
   ]
  },
  {
   "cell_type": "code",
   "execution_count": null,
   "id": "6aeb62ce-6088-4f80-8718-1af0dd76caa4",
   "metadata": {},
   "outputs": [],
   "source": []
  }
 ],
 "metadata": {
  "kernelspec": {
   "display_name": "Python 3 (ipykernel)",
   "language": "python",
   "name": "python3"
  },
  "language_info": {
   "codemirror_mode": {
    "name": "ipython",
    "version": 3
   },
   "file_extension": ".py",
   "mimetype": "text/x-python",
   "name": "python",
   "nbconvert_exporter": "python",
   "pygments_lexer": "ipython3",
   "version": "3.9.7"
  }
 },
 "nbformat": 4,
 "nbformat_minor": 5
}
